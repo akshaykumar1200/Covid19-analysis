{
  "metadata": {
    "kernelspec": {
      "language": "python",
      "display_name": "Python 3",
      "name": "python3"
    },
    "language_info": {
      "name": "python",
      "version": "3.10.13",
      "mimetype": "text/x-python",
      "codemirror_mode": {
        "name": "ipython",
        "version": 3
      },
      "pygments_lexer": "ipython3",
      "nbconvert_exporter": "python",
      "file_extension": ".py"
    },
    "kaggle": {
      "accelerator": "none",
      "dataSources": [
        {
          "sourceId": 9000200,
          "sourceType": "datasetVersion",
          "datasetId": 5421570
        }
      ],
      "dockerImageVersionId": 30746,
      "isInternetEnabled": false,
      "language": "python",
      "sourceType": "notebook",
      "isGpuEnabled": false
    },
    "colab": {
      "name": "porject covid 19 ",
      "provenance": []
    }
  },
  "nbformat_minor": 0,
  "nbformat": 4,
  "cells": [
    {
      "source": [
        "\n",
        "# IMPORTANT: RUN THIS CELL IN ORDER TO IMPORT YOUR KAGGLE DATA SOURCES\n",
        "# TO THE CORRECT LOCATION (/kaggle/input) IN YOUR NOTEBOOK,\n",
        "# THEN FEEL FREE TO DELETE THIS CELL.\n",
        "# NOTE: THIS NOTEBOOK ENVIRONMENT DIFFERS FROM KAGGLE'S PYTHON\n",
        "# ENVIRONMENT SO THERE MAY BE MISSING LIBRARIES USED BY YOUR\n",
        "# NOTEBOOK.\n",
        "\n",
        "import os\n",
        "import sys\n",
        "from tempfile import NamedTemporaryFile\n",
        "from urllib.request import urlopen\n",
        "from urllib.parse import unquote, urlparse\n",
        "from urllib.error import HTTPError\n",
        "from zipfile import ZipFile\n",
        "import tarfile\n",
        "import shutil\n",
        "\n",
        "CHUNK_SIZE = 40960\n",
        "DATA_SOURCE_MAPPING = 'case-2:https%3A%2F%2Fstorage.googleapis.com%2Fkaggle-data-sets%2F5421570%2F9000200%2Fbundle%2Farchive.zip%3FX-Goog-Algorithm%3DGOOG4-RSA-SHA256%26X-Goog-Credential%3Dgcp-kaggle-com%2540kaggle-161607.iam.gserviceaccount.com%252F20240725%252Fauto%252Fstorage%252Fgoog4_request%26X-Goog-Date%3D20240725T053105Z%26X-Goog-Expires%3D259200%26X-Goog-SignedHeaders%3Dhost%26X-Goog-Signature%3D90b075afed6b964637b4f63b4c32a9d9bdb27530f5cd1538392616375bce2a73fbcd3aadc890af8dccc4a4ddee74ae7dcc06fdfc6493f992706a1a81f6d72348004ea3019e83708473dc2554a485b27c3064ef39ec793554eb10d77d7077ce5050bff0cb95274b695793c11f2c89ea2d8e5f7b0b33c8d33313b7a9442f82c03ef4940c3acb06deb3ba09c353455d8461a2a8acd6ce0eac8a09c9932f38caae78051f428d1d25e7f5dcd90c2ea31bf824459f870bd3a0708ef9c6361e0c08d4b731852d16f729e01306a72c37374befa6ec4c13ddd2be79534d53d11becfc11a6feddf596b1f7985929ce8224151b52c36ff96ce0e79c4506d94809cedfd5959e'\n",
        "\n",
        "KAGGLE_INPUT_PATH='/kaggle/input'\n",
        "KAGGLE_WORKING_PATH='/kaggle/working'\n",
        "KAGGLE_SYMLINK='kaggle'\n",
        "\n",
        "!umount /kaggle/input/ 2> /dev/null\n",
        "shutil.rmtree('/kaggle/input', ignore_errors=True)\n",
        "os.makedirs(KAGGLE_INPUT_PATH, 0o777, exist_ok=True)\n",
        "os.makedirs(KAGGLE_WORKING_PATH, 0o777, exist_ok=True)\n",
        "\n",
        "try:\n",
        "  os.symlink(KAGGLE_INPUT_PATH, os.path.join(\"..\", 'input'), target_is_directory=True)\n",
        "except FileExistsError:\n",
        "  pass\n",
        "try:\n",
        "  os.symlink(KAGGLE_WORKING_PATH, os.path.join(\"..\", 'working'), target_is_directory=True)\n",
        "except FileExistsError:\n",
        "  pass\n",
        "\n",
        "for data_source_mapping in DATA_SOURCE_MAPPING.split(','):\n",
        "    directory, download_url_encoded = data_source_mapping.split(':')\n",
        "    download_url = unquote(download_url_encoded)\n",
        "    filename = urlparse(download_url).path\n",
        "    destination_path = os.path.join(KAGGLE_INPUT_PATH, directory)\n",
        "    try:\n",
        "        with urlopen(download_url) as fileres, NamedTemporaryFile() as tfile:\n",
        "            total_length = fileres.headers['content-length']\n",
        "            print(f'Downloading {directory}, {total_length} bytes compressed')\n",
        "            dl = 0\n",
        "            data = fileres.read(CHUNK_SIZE)\n",
        "            while len(data) > 0:\n",
        "                dl += len(data)\n",
        "                tfile.write(data)\n",
        "                done = int(50 * dl / int(total_length))\n",
        "                sys.stdout.write(f\"\\r[{'=' * done}{' ' * (50-done)}] {dl} bytes downloaded\")\n",
        "                sys.stdout.flush()\n",
        "                data = fileres.read(CHUNK_SIZE)\n",
        "            if filename.endswith('.zip'):\n",
        "              with ZipFile(tfile) as zfile:\n",
        "                zfile.extractall(destination_path)\n",
        "            else:\n",
        "              with tarfile.open(tfile.name) as tarfile:\n",
        "                tarfile.extractall(destination_path)\n",
        "            print(f'\\nDownloaded and uncompressed: {directory}')\n",
        "    except HTTPError as e:\n",
        "        print(f'Failed to load (likely expired) {download_url} to path {destination_path}')\n",
        "        continue\n",
        "    except OSError as e:\n",
        "        print(f'Failed to load {download_url} to path {destination_path}')\n",
        "        continue\n",
        "\n",
        "print('Data source import complete.')\n"
      ],
      "metadata": {
        "id": "5n7jO_oUXyxS"
      },
      "cell_type": "code",
      "outputs": [],
      "execution_count": null
    },
    {
      "cell_type": "code",
      "source": [],
      "metadata": {
        "id": "gWeqKcbBXyxU"
      },
      "execution_count": null,
      "outputs": []
    },
    {
      "cell_type": "code",
      "source": [
        "import numpy as np\n",
        "import pandas as pd\n",
        "import seaborn as sns\n",
        "import matplotlib.pyplot as plt\n",
        "import plotly.express as px\n"
      ],
      "metadata": {
        "execution": {
          "iopub.status.busy": "2024-07-25T04:45:44.660961Z",
          "iopub.execute_input": "2024-07-25T04:45:44.661717Z",
          "iopub.status.idle": "2024-07-25T04:45:46.308632Z",
          "shell.execute_reply.started": "2024-07-25T04:45:44.661683Z",
          "shell.execute_reply": "2024-07-25T04:45:46.307671Z"
        },
        "trusted": true,
        "id": "iclrU7NcXyxU"
      },
      "execution_count": null,
      "outputs": []
    },
    {
      "cell_type": "code",
      "source": [],
      "metadata": {
        "id": "zr7HGonAXyxV"
      },
      "execution_count": null,
      "outputs": []
    },
    {
      "cell_type": "code",
      "source": [
        "dataset = pd.read_csv(\"/kaggle/input/case-2/covid19_Confirmed_dataset.csv\")\n",
        "dataset.head()\n"
      ],
      "metadata": {
        "execution": {
          "iopub.status.busy": "2024-07-25T04:50:39.741776Z",
          "iopub.execute_input": "2024-07-25T04:50:39.74217Z",
          "iopub.status.idle": "2024-07-25T04:50:39.786816Z",
          "shell.execute_reply.started": "2024-07-25T04:50:39.742142Z",
          "shell.execute_reply": "2024-07-25T04:50:39.785799Z"
        },
        "trusted": true,
        "id": "Tf0gEGt2XyxV"
      },
      "execution_count": null,
      "outputs": []
    },
    {
      "cell_type": "code",
      "source": [
        "dataset.shape"
      ],
      "metadata": {
        "execution": {
          "iopub.status.busy": "2024-07-25T04:50:41.889985Z",
          "iopub.execute_input": "2024-07-25T04:50:41.890336Z",
          "iopub.status.idle": "2024-07-25T04:50:41.897182Z",
          "shell.execute_reply.started": "2024-07-25T04:50:41.890309Z",
          "shell.execute_reply": "2024-07-25T04:50:41.895951Z"
        },
        "trusted": true,
        "id": "Z6t1pInRXyxV"
      },
      "execution_count": null,
      "outputs": []
    },
    {
      "cell_type": "code",
      "source": [
        "df  = dataset.drop([\"Lat\",\"Long\"], axis= 1, inplace = True)"
      ],
      "metadata": {
        "execution": {
          "iopub.status.busy": "2024-07-25T04:50:55.324114Z",
          "iopub.execute_input": "2024-07-25T04:50:55.324484Z",
          "iopub.status.idle": "2024-07-25T04:50:55.414853Z",
          "shell.execute_reply.started": "2024-07-25T04:50:55.324452Z",
          "shell.execute_reply": "2024-07-25T04:50:55.412686Z"
        },
        "trusted": true,
        "id": "68dCzI-GXyxV"
      },
      "execution_count": null,
      "outputs": []
    },
    {
      "cell_type": "code",
      "source": [
        "dataset.head()"
      ],
      "metadata": {
        "execution": {
          "iopub.status.busy": "2024-07-25T04:51:06.562764Z",
          "iopub.execute_input": "2024-07-25T04:51:06.56321Z",
          "iopub.status.idle": "2024-07-25T04:51:06.582748Z",
          "shell.execute_reply.started": "2024-07-25T04:51:06.563175Z",
          "shell.execute_reply": "2024-07-25T04:51:06.58156Z"
        },
        "trusted": true,
        "id": "UoHCa7MlXyxV"
      },
      "execution_count": null,
      "outputs": []
    },
    {
      "cell_type": "code",
      "source": [
        "dataset.shape"
      ],
      "metadata": {
        "execution": {
          "iopub.status.busy": "2024-07-24T17:40:22.604934Z",
          "iopub.execute_input": "2024-07-24T17:40:22.605336Z",
          "iopub.status.idle": "2024-07-24T17:40:22.620846Z",
          "shell.execute_reply.started": "2024-07-24T17:40:22.605298Z",
          "shell.execute_reply": "2024-07-24T17:40:22.619252Z"
        },
        "trusted": true,
        "id": "v1A92QlkXyxW"
      },
      "execution_count": null,
      "outputs": []
    },
    {
      "cell_type": "code",
      "source": [
        "corona_dataset_aggregated = dataset.groupby(\"Country/Region\").sum()\n",
        "corona_dataset_aggregated"
      ],
      "metadata": {
        "execution": {
          "iopub.status.busy": "2024-07-25T04:51:11.570386Z",
          "iopub.execute_input": "2024-07-25T04:51:11.570791Z",
          "iopub.status.idle": "2024-07-25T04:51:11.604168Z",
          "shell.execute_reply.started": "2024-07-25T04:51:11.57076Z",
          "shell.execute_reply": "2024-07-25T04:51:11.603093Z"
        },
        "trusted": true,
        "id": "Uh7OL-HDXyxW"
      },
      "execution_count": null,
      "outputs": []
    },
    {
      "cell_type": "code",
      "source": [
        "corona_dataset_aggregated"
      ],
      "metadata": {
        "execution": {
          "iopub.status.busy": "2024-07-25T04:51:16.890651Z",
          "iopub.execute_input": "2024-07-25T04:51:16.891038Z",
          "iopub.status.idle": "2024-07-25T04:51:16.914032Z",
          "shell.execute_reply.started": "2024-07-25T04:51:16.891012Z",
          "shell.execute_reply": "2024-07-25T04:51:16.912839Z"
        },
        "trusted": true,
        "id": "esBYhg6QXyxW"
      },
      "execution_count": null,
      "outputs": []
    },
    {
      "cell_type": "code",
      "source": [
        "\n",
        "corona_dataset_aggregated.loc[\"Afghanistan\"].plot()\n",
        "corona_dataset_aggregated.loc[\"India\"].plot()\n",
        "#corana_dataset_aggregated.loc[\"Australia\"].plot()"
      ],
      "metadata": {
        "execution": {
          "iopub.status.busy": "2024-07-25T04:51:19.787131Z",
          "iopub.execute_input": "2024-07-25T04:51:19.787515Z",
          "iopub.status.idle": "2024-07-25T04:51:20.045989Z",
          "shell.execute_reply.started": "2024-07-25T04:51:19.787476Z",
          "shell.execute_reply": "2024-07-25T04:51:20.044849Z"
        },
        "trusted": true,
        "id": "kcyVaffmXyxW"
      },
      "execution_count": null,
      "outputs": []
    },
    {
      "cell_type": "code",
      "source": [
        "country = list(corona_dataset_aggregated.index)"
      ],
      "metadata": {
        "execution": {
          "iopub.status.busy": "2024-07-25T04:51:25.848578Z",
          "iopub.execute_input": "2024-07-25T04:51:25.849014Z",
          "iopub.status.idle": "2024-07-25T04:51:25.854767Z",
          "shell.execute_reply.started": "2024-07-25T04:51:25.84898Z",
          "shell.execute_reply": "2024-07-25T04:51:25.853225Z"
        },
        "trusted": true,
        "id": "gEIAW9VHXyxW"
      },
      "execution_count": null,
      "outputs": []
    },
    {
      "cell_type": "code",
      "source": [
        "\n",
        "corona_dataset_aggregated.loc[\"India\"].diff().max()"
      ],
      "metadata": {
        "execution": {
          "iopub.status.busy": "2024-07-25T04:51:33.474414Z",
          "iopub.execute_input": "2024-07-25T04:51:33.474812Z",
          "iopub.status.idle": "2024-07-25T04:51:33.482956Z",
          "shell.execute_reply.started": "2024-07-25T04:51:33.474782Z",
          "shell.execute_reply": "2024-07-25T04:51:33.481645Z"
        },
        "trusted": true,
        "id": "2OT32pSDXyxW"
      },
      "execution_count": null,
      "outputs": []
    },
    {
      "cell_type": "code",
      "source": [
        "corona_dataset_aggregated.loc[\"Spain\"].diff().max()"
      ],
      "metadata": {
        "execution": {
          "iopub.status.busy": "2024-07-25T04:51:31.042249Z",
          "iopub.execute_input": "2024-07-25T04:51:31.043286Z",
          "iopub.status.idle": "2024-07-25T04:51:31.051045Z",
          "shell.execute_reply.started": "2024-07-25T04:51:31.043247Z",
          "shell.execute_reply": "2024-07-25T04:51:31.049855Z"
        },
        "trusted": true,
        "id": "ajsWuABUXyxW"
      },
      "execution_count": null,
      "outputs": []
    },
    {
      "cell_type": "code",
      "source": [
        "corona_dataset_aggregated.loc[\"Andorra\"].diff()"
      ],
      "metadata": {
        "execution": {
          "iopub.status.busy": "2024-07-25T04:51:35.483807Z",
          "iopub.execute_input": "2024-07-25T04:51:35.484214Z",
          "iopub.status.idle": "2024-07-25T04:51:35.493636Z",
          "shell.execute_reply.started": "2024-07-25T04:51:35.484183Z",
          "shell.execute_reply": "2024-07-25T04:51:35.492414Z"
        },
        "trusted": true,
        "id": "fnW-erOkXyxX"
      },
      "execution_count": null,
      "outputs": []
    },
    {
      "cell_type": "markdown",
      "source": [],
      "metadata": {
        "id": "F3tb1er0XyxX"
      }
    },
    {
      "cell_type": "code",
      "source": [
        "#orana_dataset_aggregated"
      ],
      "metadata": {
        "execution": {
          "iopub.status.busy": "2024-07-24T17:42:19.768908Z",
          "iopub.execute_input": "2024-07-24T17:42:19.76931Z",
          "iopub.status.idle": "2024-07-24T17:42:19.794613Z",
          "shell.execute_reply.started": "2024-07-24T17:42:19.769279Z",
          "shell.execute_reply": "2024-07-24T17:42:19.793137Z"
        },
        "trusted": true,
        "id": "Lms21Rr7XyxX"
      },
      "execution_count": null,
      "outputs": []
    },
    {
      "cell_type": "code",
      "source": [
        "corona_dataset_aggregated.dtypes"
      ],
      "metadata": {
        "execution": {
          "iopub.status.busy": "2024-07-25T04:51:46.634843Z",
          "iopub.execute_input": "2024-07-25T04:51:46.635238Z",
          "iopub.status.idle": "2024-07-25T04:51:46.643357Z",
          "shell.execute_reply.started": "2024-07-25T04:51:46.635211Z",
          "shell.execute_reply": "2024-07-25T04:51:46.642329Z"
        },
        "trusted": true,
        "id": "jvqwx8r5XyxY"
      },
      "execution_count": null,
      "outputs": []
    },
    {
      "cell_type": "code",
      "source": [
        "\n",
        "corona_dataset_aggregated = corona_dataset_aggregated.apply(pd.to_numeric, errors='coerce')\n",
        "countries = list(corona_dataset_aggregated.index)\n",
        "max_infection_rates = []\n",
        "\n",
        "for c in countries:\n",
        "\n",
        "    max_infection_rate = corona_dataset_aggregated.loc[c].diff().max()\n",
        "    max_infection_rates.append(max_infection_rate)\n",
        "\n",
        "corona_dataset_aggregated[\"Max_infection_rates\"] = max_infection_rates"
      ],
      "metadata": {
        "scrolled": true,
        "execution": {
          "iopub.status.busy": "2024-07-25T04:51:52.455529Z",
          "iopub.execute_input": "2024-07-25T04:51:52.456442Z",
          "iopub.status.idle": "2024-07-25T04:51:52.530286Z",
          "shell.execute_reply.started": "2024-07-25T04:51:52.456406Z",
          "shell.execute_reply": "2024-07-25T04:51:52.529193Z"
        },
        "trusted": true,
        "id": "_vBAUAz5XyxY"
      },
      "execution_count": null,
      "outputs": []
    },
    {
      "cell_type": "code",
      "source": [
        "corona_dataset_aggregated"
      ],
      "metadata": {
        "execution": {
          "iopub.status.busy": "2024-07-25T04:51:55.5979Z",
          "iopub.execute_input": "2024-07-25T04:51:55.598313Z",
          "iopub.status.idle": "2024-07-25T04:51:55.628593Z",
          "shell.execute_reply.started": "2024-07-25T04:51:55.598281Z",
          "shell.execute_reply": "2024-07-25T04:51:55.627195Z"
        },
        "trusted": true,
        "id": "LBrfYBKlXyxY"
      },
      "execution_count": null,
      "outputs": []
    },
    {
      "cell_type": "code",
      "source": [
        "corona_data = pd.DataFrame(corona_dataset_aggregated[\"Max_infection_rates\"])"
      ],
      "metadata": {
        "execution": {
          "iopub.status.busy": "2024-07-25T04:52:01.055238Z",
          "iopub.execute_input": "2024-07-25T04:52:01.055613Z",
          "iopub.status.idle": "2024-07-25T04:52:01.061807Z",
          "shell.execute_reply.started": "2024-07-25T04:52:01.055585Z",
          "shell.execute_reply": "2024-07-25T04:52:01.060293Z"
        },
        "trusted": true,
        "id": "FL8w3Z5TXyxY"
      },
      "execution_count": null,
      "outputs": []
    },
    {
      "cell_type": "code",
      "source": [
        "corona_data"
      ],
      "metadata": {
        "execution": {
          "iopub.status.busy": "2024-07-25T04:52:03.342941Z",
          "iopub.execute_input": "2024-07-25T04:52:03.343588Z",
          "iopub.status.idle": "2024-07-25T04:52:03.355192Z",
          "shell.execute_reply.started": "2024-07-25T04:52:03.343553Z",
          "shell.execute_reply": "2024-07-25T04:52:03.353987Z"
        },
        "trusted": true,
        "id": "DNe-l7HvXyxY"
      },
      "execution_count": null,
      "outputs": []
    },
    {
      "cell_type": "markdown",
      "source": [],
      "metadata": {
        "id": "s8KGmT_-XyxZ"
      }
    },
    {
      "cell_type": "code",
      "source": [
        "#import datasheet 2nd"
      ],
      "metadata": {
        "execution": {
          "iopub.status.busy": "2024-07-24T17:40:23.38986Z",
          "iopub.status.idle": "2024-07-24T17:40:23.390366Z",
          "shell.execute_reply.started": "2024-07-24T17:40:23.390102Z",
          "shell.execute_reply": "2024-07-24T17:40:23.390122Z"
        },
        "trusted": true,
        "id": "NOfpgVm4XyxZ"
      },
      "execution_count": null,
      "outputs": []
    },
    {
      "cell_type": "code",
      "source": [
        "happiness_report = pd.read_csv(\"/kaggle/input/case-2/worldwide_happiness_report.csv\")"
      ],
      "metadata": {
        "execution": {
          "iopub.status.busy": "2024-07-25T04:52:07.29967Z",
          "iopub.execute_input": "2024-07-25T04:52:07.30009Z",
          "iopub.status.idle": "2024-07-25T04:52:07.310052Z",
          "shell.execute_reply.started": "2024-07-25T04:52:07.300056Z",
          "shell.execute_reply": "2024-07-25T04:52:07.308954Z"
        },
        "trusted": true,
        "id": "FgMM_LFyXyxZ"
      },
      "execution_count": null,
      "outputs": []
    },
    {
      "cell_type": "code",
      "source": [
        "happiness_report"
      ],
      "metadata": {
        "execution": {
          "iopub.status.busy": "2024-07-25T04:52:09.628827Z",
          "iopub.execute_input": "2024-07-25T04:52:09.629868Z",
          "iopub.status.idle": "2024-07-25T04:52:09.649475Z",
          "shell.execute_reply.started": "2024-07-25T04:52:09.62983Z",
          "shell.execute_reply": "2024-07-25T04:52:09.64842Z"
        },
        "trusted": true,
        "id": "q2t4X6v9XyxZ"
      },
      "execution_count": null,
      "outputs": []
    },
    {
      "cell_type": "code",
      "source": [
        "useless_cols = [\"Overall rank\",\"Score\",\"Generosity\",\"Perceptions of corruption\"]"
      ],
      "metadata": {
        "execution": {
          "iopub.status.busy": "2024-07-25T04:52:12.197933Z",
          "iopub.execute_input": "2024-07-25T04:52:12.198817Z",
          "iopub.status.idle": "2024-07-25T04:52:12.204321Z",
          "shell.execute_reply.started": "2024-07-25T04:52:12.198772Z",
          "shell.execute_reply": "2024-07-25T04:52:12.202802Z"
        },
        "trusted": true,
        "id": "vI0Y5nBAXyxZ"
      },
      "execution_count": null,
      "outputs": []
    },
    {
      "cell_type": "code",
      "source": [
        "happiness_report.drop(useless_cols,axis = 1,inplace = True)"
      ],
      "metadata": {
        "execution": {
          "iopub.status.busy": "2024-07-25T04:52:14.082804Z",
          "iopub.execute_input": "2024-07-25T04:52:14.08321Z",
          "iopub.status.idle": "2024-07-25T04:52:14.089532Z",
          "shell.execute_reply.started": "2024-07-25T04:52:14.083177Z",
          "shell.execute_reply": "2024-07-25T04:52:14.088067Z"
        },
        "trusted": true,
        "id": "ZtpgLihmXyxa"
      },
      "execution_count": null,
      "outputs": []
    },
    {
      "cell_type": "code",
      "source": [
        "happiness_report.head()"
      ],
      "metadata": {
        "execution": {
          "iopub.status.busy": "2024-07-25T04:52:22.277712Z",
          "iopub.execute_input": "2024-07-25T04:52:22.278084Z",
          "iopub.status.idle": "2024-07-25T04:52:22.291987Z",
          "shell.execute_reply.started": "2024-07-25T04:52:22.278058Z",
          "shell.execute_reply": "2024-07-25T04:52:22.290753Z"
        },
        "trusted": true,
        "id": "i5dSltghXyxa"
      },
      "execution_count": null,
      "outputs": []
    },
    {
      "cell_type": "code",
      "source": [
        "happiness_report.set_index(\"Country or region\", inplace = True)"
      ],
      "metadata": {
        "execution": {
          "iopub.status.busy": "2024-07-25T04:52:28.171026Z",
          "iopub.execute_input": "2024-07-25T04:52:28.171842Z",
          "iopub.status.idle": "2024-07-25T04:52:28.177451Z",
          "shell.execute_reply.started": "2024-07-25T04:52:28.171807Z",
          "shell.execute_reply": "2024-07-25T04:52:28.17588Z"
        },
        "trusted": true,
        "id": "vi0LaU7qXyxa"
      },
      "execution_count": null,
      "outputs": []
    },
    {
      "cell_type": "code",
      "source": [
        "happiness_report"
      ],
      "metadata": {
        "execution": {
          "iopub.status.busy": "2024-07-25T04:52:30.243941Z",
          "iopub.execute_input": "2024-07-25T04:52:30.244677Z",
          "iopub.status.idle": "2024-07-25T04:52:30.259055Z",
          "shell.execute_reply.started": "2024-07-25T04:52:30.244642Z",
          "shell.execute_reply": "2024-07-25T04:52:30.25786Z"
        },
        "trusted": true,
        "id": "3QKJBYUdXyxa"
      },
      "execution_count": null,
      "outputs": []
    },
    {
      "cell_type": "code",
      "source": [
        "corona_data.shape"
      ],
      "metadata": {
        "execution": {
          "iopub.status.busy": "2024-07-25T04:52:33.460412Z",
          "iopub.execute_input": "2024-07-25T04:52:33.460814Z",
          "iopub.status.idle": "2024-07-25T04:52:33.46845Z",
          "shell.execute_reply.started": "2024-07-25T04:52:33.460781Z",
          "shell.execute_reply": "2024-07-25T04:52:33.467206Z"
        },
        "trusted": true,
        "id": "lMIXD77EXyxa"
      },
      "execution_count": null,
      "outputs": []
    },
    {
      "cell_type": "code",
      "source": [
        "happiness_report.shape"
      ],
      "metadata": {
        "execution": {
          "iopub.status.busy": "2024-07-25T04:52:35.455025Z",
          "iopub.execute_input": "2024-07-25T04:52:35.455947Z",
          "iopub.status.idle": "2024-07-25T04:52:35.46216Z",
          "shell.execute_reply.started": "2024-07-25T04:52:35.455896Z",
          "shell.execute_reply": "2024-07-25T04:52:35.460993Z"
        },
        "trusted": true,
        "id": "ImCrdoqfXyxa"
      },
      "execution_count": null,
      "outputs": []
    },
    {
      "cell_type": "code",
      "source": [
        "data = corona_data.join(happiness_report, how = \"inner\")"
      ],
      "metadata": {
        "execution": {
          "iopub.status.busy": "2024-07-25T04:52:37.767985Z",
          "iopub.execute_input": "2024-07-25T04:52:37.769059Z",
          "iopub.status.idle": "2024-07-25T04:52:37.779146Z",
          "shell.execute_reply.started": "2024-07-25T04:52:37.769014Z",
          "shell.execute_reply": "2024-07-25T04:52:37.778092Z"
        },
        "trusted": true,
        "id": "-KokawiWXyxb"
      },
      "execution_count": null,
      "outputs": []
    },
    {
      "cell_type": "code",
      "source": [
        "data"
      ],
      "metadata": {
        "execution": {
          "iopub.status.busy": "2024-07-25T04:52:39.628014Z",
          "iopub.execute_input": "2024-07-25T04:52:39.628384Z",
          "iopub.status.idle": "2024-07-25T04:52:39.643932Z",
          "shell.execute_reply.started": "2024-07-25T04:52:39.628354Z",
          "shell.execute_reply": "2024-07-25T04:52:39.64282Z"
        },
        "trusted": true,
        "id": "gp10MYK2Xyxb"
      },
      "execution_count": null,
      "outputs": []
    },
    {
      "cell_type": "code",
      "source": [
        "data.corr()"
      ],
      "metadata": {
        "execution": {
          "iopub.status.busy": "2024-07-25T04:52:42.398108Z",
          "iopub.execute_input": "2024-07-25T04:52:42.399327Z",
          "iopub.status.idle": "2024-07-25T04:52:42.416695Z",
          "shell.execute_reply.started": "2024-07-25T04:52:42.399285Z",
          "shell.execute_reply": "2024-07-25T04:52:42.415635Z"
        },
        "trusted": true,
        "id": "BXzAu9ZjXyxb"
      },
      "execution_count": null,
      "outputs": []
    },
    {
      "cell_type": "code",
      "source": [
        "x= data[\"GDP per capita\"]\n",
        "y= data[\"Healthy life expectancy\"]\n",
        "z=data[\"Social support\"]\n",
        "y.transformed = np.log(y)\n",
        "x.transformed = x/100\n",
        "px.scatter_3d(x=x.transformed,y=y.transformed,z=z)"
      ],
      "metadata": {
        "execution": {
          "iopub.status.busy": "2024-07-25T04:52:44.889067Z",
          "iopub.execute_input": "2024-07-25T04:52:44.889458Z",
          "iopub.status.idle": "2024-07-25T04:52:47.129953Z",
          "shell.execute_reply.started": "2024-07-25T04:52:44.889417Z",
          "shell.execute_reply": "2024-07-25T04:52:47.12885Z"
        },
        "trusted": true,
        "id": "7PRJgr3xXyxb"
      },
      "execution_count": null,
      "outputs": []
    },
    {
      "cell_type": "code",
      "source": [
        "sns.regplot(x=x.transformed,y=y.transformed)"
      ],
      "metadata": {
        "execution": {
          "iopub.status.busy": "2024-07-25T04:52:53.374023Z",
          "iopub.execute_input": "2024-07-25T04:52:53.37442Z",
          "iopub.status.idle": "2024-07-25T04:52:53.758398Z",
          "shell.execute_reply.started": "2024-07-25T04:52:53.37438Z",
          "shell.execute_reply": "2024-07-25T04:52:53.757191Z"
        },
        "trusted": true,
        "id": "kVeAH1fmXyxb"
      },
      "execution_count": null,
      "outputs": []
    },
    {
      "cell_type": "code",
      "source": [
        "sns.scatterplot(x=x.transformed,y=y.transformed)"
      ],
      "metadata": {
        "execution": {
          "iopub.status.busy": "2024-07-25T04:52:56.95204Z",
          "iopub.execute_input": "2024-07-25T04:52:56.95304Z",
          "iopub.status.idle": "2024-07-25T04:52:57.239588Z",
          "shell.execute_reply.started": "2024-07-25T04:52:56.953005Z",
          "shell.execute_reply": "2024-07-25T04:52:57.238534Z"
        },
        "trusted": true,
        "id": "t9sAx3RAXyxb"
      },
      "execution_count": null,
      "outputs": []
    },
    {
      "cell_type": "code",
      "source": [
        "x= data[\"GDP per capita\"]\n",
        "y= data[\"Max_infection_rates\"]\n",
        "y.transformed = np.log(y)\n",
        "x.transformed = x\n",
        "\n",
        "sns.scatterplot(x=x.transformed,y=y.transformed)"
      ],
      "metadata": {
        "execution": {
          "iopub.status.busy": "2024-07-25T04:52:59.627597Z",
          "iopub.execute_input": "2024-07-25T04:52:59.627992Z",
          "iopub.status.idle": "2024-07-25T04:52:59.917091Z",
          "shell.execute_reply.started": "2024-07-25T04:52:59.627959Z",
          "shell.execute_reply": "2024-07-25T04:52:59.915947Z"
        },
        "trusted": true,
        "id": "C6085I2CXyxc"
      },
      "execution_count": null,
      "outputs": []
    },
    {
      "cell_type": "code",
      "source": [
        "sns.regplot(x=x.transformed,y=y.transformed)"
      ],
      "metadata": {
        "execution": {
          "iopub.status.busy": "2024-07-25T04:53:02.280162Z",
          "iopub.execute_input": "2024-07-25T04:53:02.280863Z",
          "iopub.status.idle": "2024-07-25T04:53:02.599169Z",
          "shell.execute_reply.started": "2024-07-25T04:53:02.280827Z",
          "shell.execute_reply": "2024-07-25T04:53:02.598055Z"
        },
        "trusted": true,
        "id": "iT0_ulmZXyxc"
      },
      "execution_count": null,
      "outputs": []
    },
    {
      "cell_type": "code",
      "source": [
        "x= data[\"Social support\"]\n",
        "y =data[\"Max_infection_rates\"]\n",
        "y.transformed = np.log(y)\n",
        "x.transformed = x\n",
        "\n",
        "sns.scatterplot(x=x.transformed,y=y.transformed)"
      ],
      "metadata": {
        "execution": {
          "iopub.status.busy": "2024-07-25T04:53:08.641449Z",
          "iopub.execute_input": "2024-07-25T04:53:08.641835Z",
          "iopub.status.idle": "2024-07-25T04:53:08.908799Z",
          "shell.execute_reply.started": "2024-07-25T04:53:08.641805Z",
          "shell.execute_reply": "2024-07-25T04:53:08.90759Z"
        },
        "trusted": true,
        "id": "wVYqqTiUXyxc"
      },
      "execution_count": null,
      "outputs": []
    },
    {
      "cell_type": "code",
      "source": [
        "sns.regplot(x=x.transformed,y=y.transformed)"
      ],
      "metadata": {
        "execution": {
          "iopub.status.busy": "2024-07-25T04:53:11.562069Z",
          "iopub.execute_input": "2024-07-25T04:53:11.562443Z",
          "iopub.status.idle": "2024-07-25T04:53:11.929076Z",
          "shell.execute_reply.started": "2024-07-25T04:53:11.562412Z",
          "shell.execute_reply": "2024-07-25T04:53:11.928072Z"
        },
        "trusted": true,
        "id": "5rT1qRcZXyxc"
      },
      "execution_count": null,
      "outputs": []
    },
    {
      "cell_type": "code",
      "source": [
        "x= data[\"Healthy life expectancy\"]\n",
        "y =data[\"Max_infection_rates\"]\n",
        "y.transformed = np.log(y)\n",
        "x.transformed = x\n",
        "\n",
        "sns.scatterplot(x=x.transformed,y=y.transformed)"
      ],
      "metadata": {
        "execution": {
          "iopub.status.busy": "2024-07-25T04:53:13.832693Z",
          "iopub.execute_input": "2024-07-25T04:53:13.833082Z",
          "iopub.status.idle": "2024-07-25T04:53:14.099139Z",
          "shell.execute_reply.started": "2024-07-25T04:53:13.833054Z",
          "shell.execute_reply": "2024-07-25T04:53:14.098128Z"
        },
        "trusted": true,
        "id": "gTyP3lwgXyxc"
      },
      "execution_count": null,
      "outputs": []
    },
    {
      "cell_type": "code",
      "source": [
        "sns.regplot(x=x.transformed,y=y.transformed)"
      ],
      "metadata": {
        "execution": {
          "iopub.status.busy": "2024-07-25T04:53:17.33251Z",
          "iopub.execute_input": "2024-07-25T04:53:17.332943Z",
          "iopub.status.idle": "2024-07-25T04:53:17.68112Z",
          "shell.execute_reply.started": "2024-07-25T04:53:17.332893Z",
          "shell.execute_reply": "2024-07-25T04:53:17.679874Z"
        },
        "trusted": true,
        "id": "mR5P6e2aXyxc"
      },
      "execution_count": null,
      "outputs": []
    },
    {
      "cell_type": "code",
      "source": [
        "x= data[\"Freedom to make life choices\"]\n",
        "y =data[\"Max_infection_rates\"]\n",
        "y.transformed = np.log(y)\n",
        "x.transformed = x\n",
        "\n",
        "sns.scatterplot(x=x.transformed,y=y.transformed)"
      ],
      "metadata": {
        "execution": {
          "iopub.status.busy": "2024-07-25T04:53:19.63035Z",
          "iopub.execute_input": "2024-07-25T04:53:19.630739Z",
          "iopub.status.idle": "2024-07-25T04:53:19.917765Z",
          "shell.execute_reply.started": "2024-07-25T04:53:19.630708Z",
          "shell.execute_reply": "2024-07-25T04:53:19.916655Z"
        },
        "trusted": true,
        "id": "XrZd9wplXyxc"
      },
      "execution_count": null,
      "outputs": []
    },
    {
      "cell_type": "code",
      "source": [
        "sns.regplot(x=x.transformed,y=y.transformed)"
      ],
      "metadata": {
        "execution": {
          "iopub.status.busy": "2024-07-25T04:53:22.082396Z",
          "iopub.execute_input": "2024-07-25T04:53:22.082782Z",
          "iopub.status.idle": "2024-07-25T04:53:22.408079Z",
          "shell.execute_reply.started": "2024-07-25T04:53:22.082745Z",
          "shell.execute_reply": "2024-07-25T04:53:22.407082Z"
        },
        "trusted": true,
        "id": "zzg9MM1NXyxd"
      },
      "execution_count": null,
      "outputs": []
    },
    {
      "cell_type": "code",
      "source": [],
      "metadata": {
        "id": "qXTGDj4DXyxd"
      },
      "execution_count": null,
      "outputs": []
    },
    {
      "cell_type": "code",
      "source": [],
      "metadata": {
        "id": "Yu2waqTJXyxd"
      },
      "execution_count": null,
      "outputs": []
    }
  ]
}